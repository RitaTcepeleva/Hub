{
 "cells": [
  {
   "cell_type": "code",
   "execution_count": 19,
   "metadata": {
    "pycharm": {
     "name": "#%%\n"
    }
   },
   "outputs": [
    {
     "name": "stdout",
     "output_type": "stream",
     "text": [
      "The autoreload extension is already loaded. To reload it, use:\n",
      "  %reload_ext autoreload\n"
     ]
    }
   ],
   "source": [
    "%load_ext autoreload\n",
    "\n",
    "%autoreload 2"
   ]
  },
  {
   "cell_type": "code",
   "execution_count": 20,
   "metadata": {},
   "outputs": [],
   "source": [
    "import os\n",
    "from pathlib import Path\n",
    "\n",
    "import pandas as pd\n",
    "import torch\n",
    "\n",
    "from hub.geodesic import *\n",
    "from hub.metrics import *"
   ]
  },
  {
   "cell_type": "code",
   "execution_count": 21,
   "metadata": {
    "pycharm": {
     "name": "#%%\n"
    }
   },
   "outputs": [],
   "source": [
    "data_path = Path(os.getcwd()).parent/\"data\"\n",
    "def get_df():\n",
    "    na_air_df = pd.read_csv(data_path/\"na_airports.csv\")\n",
    "    hi_air_df = pd.read_csv(data_path/\"hi_airports.csv\")\n",
    "    pak_air_df = pd.read_csv(data_path/\"pak_airports.csv\")\n",
    "    bangla_air_df = pd.read_csv(data_path/\"bangla_airports.csv\")\n",
    "    na_air_df.drop(columns=[\"Unnamed: 0\"], inplace=True)\n",
    "    hi_air_df.drop(columns=[\"Unnamed: 0\"], inplace=True)\n",
    "    pak_air_df.drop(columns=[\"Unnamed: 0\"], inplace=True)\n",
    "    bangla_air_df.drop(columns=[\"Unnamed: 0\"], inplace=True)\n",
    "    df = pd.concat([na_air_df, hi_air_df, pak_air_df, bangla_air_df], ignore_index=True)\n",
    "    \n",
    "    return df, na_air_df, hi_air_df, pak_air_df, bangla_air_df\n",
    "\n",
    "df, na_air_df, hi_air_df, pak_air_df, bangla_air_df = get_df()"
   ]
  },
  {
   "cell_type": "code",
   "execution_count": 22,
   "metadata": {},
   "outputs": [],
   "source": [
    "points = Points(df)"
   ]
  },
  {
   "cell_type": "code",
   "execution_count": 23,
   "metadata": {
    "pycharm": {
     "name": "#%%\n"
    }
   },
   "outputs": [
    {
     "name": "stdout",
     "output_type": "stream",
     "text": [
      "initial approximation: tensor([[48.9881,  7.4839]], grad_fn=<AddBackward0>)\n",
      "iteration: 0, 6.749494826082821\n",
      "iteration: 500, 6.482863552688932\n",
      "iteration: 1000, 6.2404859275545075\n",
      "iteration: 1500, 6.020889718195955\n",
      "iteration: 2000, 5.822634410617936\n",
      "iteration: 2500, 5.6444523470077534\n",
      "iteration: 3000, 5.485163085447235\n",
      "iteration: 3500, 5.343693550613839\n",
      "iteration: 4000, 5.219054662287897\n",
      "iteration: 4500, 5.110329976253613\n",
      "iteration: 5000, 5.016650588667806\n",
      "iteration: 5500, 4.937152905590639\n",
      "iteration: 6000, 4.870906001345109\n",
      "iteration: 6500, 4.816775463744815\n",
      "iteration: 7000, 4.773169842535056\n",
      "iteration: 7500, 4.737703169055907\n",
      "iteration: 8000, 4.707200378248958\n",
      "iteration: 8500, 4.6786865553373165\n",
      "iteration: 9000, 4.65044647374852\n",
      "iteration: 9500, 4.6219276212935405\n"
     ]
    }
   ],
   "source": [
    "def fit():\n",
    "    hub = torch.rand((1, 2), requires_grad=True)\n",
    "    hub = hub * torch.tensor([1, 1]) + torch.tensor([48, 7]) \n",
    "\n",
    "    print(f\"initial approximation: {hub}\")\n",
    "\n",
    "    hubs = []\n",
    "    lr = 5e-3\n",
    "    prev_grad = None\n",
    "\n",
    "    for epoch in range(10000):\n",
    "        loss = exp_cost(hub, points, 0.25)\n",
    "        \n",
    "        if epoch % 500 == 0:\n",
    "            print(f\"iteration: {epoch}, {loss}\")\n",
    "\n",
    "        hub.retain_grad()\n",
    "        loss.backward(retain_graph=True)\n",
    "\n",
    "        with torch.no_grad():\n",
    "            grad = hub.grad / torch.sqrt(hub.grad @ hub.grad.T)\n",
    "            hub -= lr * grad\n",
    "\n",
    "            if prev_grad is not None:\n",
    "                mult = prev_grad @ grad.T\n",
    "                if mult < -0.5:\n",
    "                    break\n",
    "                \n",
    "            prev_grad = grad\n",
    "\n",
    "            hub.grad.zero_()\n",
    "\n",
    "\n",
    "        hubs.append(hub.detach().numpy().copy())\n",
    "        \n",
    "    return hub.detach().numpy().copy(), hubs\n",
    "\n",
    "hub, history = fit()"
   ]
  },
  {
   "cell_type": "code",
   "execution_count": 24,
   "metadata": {},
   "outputs": [
    {
     "data": {
      "text/plain": [
       "array([[ 75.53782 , -29.131544]], dtype=float32)"
      ]
     },
     "execution_count": 24,
     "metadata": {},
     "output_type": "execute_result"
    }
   ],
   "source": [
    "hub"
   ]
  },
  {
   "cell_type": "markdown",
   "metadata": {},
   "source": [
    "# Visualization "
   ]
  },
  {
   "cell_type": "code",
   "execution_count": 25,
   "metadata": {},
   "outputs": [],
   "source": [
    "na_unique = list(na_air_df.country.unique())\n",
    "hi_unique = list(hi_air_df.country.unique())\n",
    "pak_unique = list(pak_air_df.country.unique())\n",
    "bangla_unique = list(bangla_air_df.country.unique())\n",
    "\n",
    "#df[\"Continent\"] = df[\"country\"].isin(na_unique)\n",
    "df.loc[df[\"country\"].isin(na_unique), \"Continent\"] = \"NA\"\n",
    "df.loc[df[\"country\"].isin(hi_unique), \"Continent\"] = \"HI\"\n",
    "df.loc[df[\"country\"].isin(pak_unique), \"Continent\"] = \"PAK\"\n",
    "df.loc[df[\"country\"].isin(bangla_unique), \"Continent\"] = \"BANGLA\"\n",
    "\n",
    "hub_df = pd.DataFrame([{\"lat\": hub[0,0], \"lng\": hub[0, 1], \"Continent\": \"hub\", \"country\": \"hub\"}])\n",
    "hubs_df = pd.DataFrame([{\"lat\": hub_i[0,0], \"lng\": hub_i[0, 1], \"Continent\": \"hub_\", \"country\": \"hub\"} \n",
    "                       for hub_i in history[-20:]])\n",
    "vis_df = pd.concat([df, hub_df, hubs_df], ignore_index=True)"
   ]
  },
  {
   "cell_type": "code",
   "execution_count": 26,
   "metadata": {},
   "outputs": [
    {
     "data": {
      "application/vnd.plotly.v1+json": {
       "config": {
        "plotlyServerURL": "https://plot.ly"
       },
       "data": [
        {
         "geo": "geo",
         "hovertemplate": "<b>%{hovertext}</b><br><br>Continent=NA<br>lat=%{lat}<br>lng=%{lon}<extra></extra>",
         "hovertext": [
          "United States",
          "United States",
          "United States",
          "United States",
          "United States",
          "United States",
          "United States",
          "United States",
          "United States",
          "Canada",
          "United States",
          "United States",
          "United States",
          "United States",
          "United States",
          "United States",
          "United States",
          "United States",
          "United States",
          "United States",
          "United States",
          "United States",
          "United States",
          "Canada",
          "United States",
          "United States",
          "United States",
          "United States",
          "United States",
          "United States",
          "United States",
          "Canada",
          "Canada",
          "United States",
          "United States",
          "United States",
          "United States",
          "United States",
          "United States",
          "United States",
          "United States",
          "United States",
          "United States",
          "United States",
          "United States"
         ],
         "lat": [
          33.7489924,
          34.0536909,
          41.875561600000005,
          32.7476308,
          39.7392364,
          40.7127281,
          37.779026200000004,
          36.1672559,
          47.447567299999996,
          43.6534817,
          28.5421109,
          35.227208600000004,
          40.735657,
          25.7741728,
          33.448436699999995,
          29.7589382,
          42.3602534,
          44.9227049,
          26.122308399999998,
          42.331550899999996,
          39.9527237,
          40.7127281,
          39.2908816,
          49.2608724,
          40.759619799999996,
          32.7174202,
          38.8937936,
          38.8937936,
          41.875561600000005,
          27.947759499999997,
          45.5202471,
          45.4972159,
          51.0534234,
          32.7762719,
          36.1622296,
          30.2711286,
          38.6264178,
          29.7589382,
          37.3361905,
          37.804455700000005,
          29.949932300000004,
          35.7803977,
          38.5810606,
          39.100105,
          33.750037799999994
         ],
         "legendgroup": "NA",
         "lon": [
          -84.3902644,
          -118.24276599999999,
          -87.6244212,
          -97.3135971,
          -104.98486229999999,
          -74.0060152,
          -122.4199061,
          -115.1485163,
          -122.3080159,
          -79.38393470000001,
          -81.3790304,
          -80.84308270000001,
          -74.1723667,
          -80.19362,
          -112.07414170000001,
          -95.36769740000001,
          -71.0582912,
          -93.0554922,
          -80.14337859999999,
          -83.04664029999999,
          -75.16352619999999,
          -74.0060152,
          -76.610759,
          -123.11395290000002,
          -111.88679750000001,
          -117.16277279999998,
          -76.98799759999999,
          -76.98799759999999,
          -87.6244212,
          -82.458444,
          -122.6741949,
          -73.61036419999999,
          -114.0625892,
          -96.7968559,
          -86.7743531,
          -97.7436995,
          -90.1998378,
          -95.36769740000001,
          -121.890583,
          -122.27135630000001,
          -90.0701156,
          -78.63909890000001,
          -121.49389509999999,
          -94.5781416,
          -117.87049309999999
         ],
         "marker": {
          "color": "#636efa"
         },
         "name": "NA",
         "showlegend": true,
         "type": "scattergeo"
        },
        {
         "geo": "geo",
         "hovertemplate": "<b>%{hovertext}</b><br><br>Continent=HI<br>lat=%{lat}<br>lng=%{lon}<extra></extra>",
         "hovertext": [
          "Delhi",
          "Maharashtra",
          "Karnataka",
          "Tamil Nadu",
          "West Bengal",
          "Telangana",
          "Gujarat",
          "Kerala",
          "Goa",
          "Maharashtra",
          "Assam",
          "Uttar Pradesh",
          "Rajasthan",
          "Bihar",
          "Kerala",
          "Odisha",
          "Kerala",
          "West Bengal",
          "Maharashtra",
          "Uttar Pradesh",
          "Madhya Pradesh",
          "Tamil Nadu",
          "Jammu and Kashmir (union territory)",
          "Andhra Pradesh",
          "Jharkhand",
          "Punjab",
          "Chandigarh",
          "Chhattisgarh",
          "Karnataka",
          "Tamil Nadu",
          "Kerala",
          "Gujarat",
          "Tripura",
          "Jammu and Kashmir (union territory)",
          "Tamil Nadu",
          "Madhya Pradesh",
          "Uttarakhand",
          "Manipur",
          "Rajasthan",
          "Andhra Pradesh",
          "Gujarat",
          "Andhra Pradesh",
          "Ladakh",
          "Uttar Pradesh",
          "Maharashtra",
          "Rajasthan",
          "Assam",
          "Karnataka",
          "Uttar Pradesh"
         ],
         "lat": [
          28.6517178,
          19.075989899999996,
          12.979119800000001,
          13.0836939,
          22.5726723,
          17.3887859,
          23.0216238,
          9.931308,
          15.386571300000002,
          18.521428,
          26.1805978,
          26.8381,
          26.9154576,
          25.609323899999996,
          8.5241122,
          20.2667774,
          11.2586082,
          26.7164127,
          21.1498134,
          25.3356491,
          22.7203616,
          11.0018115,
          34.08842,
          17.7231276,
          23.3700354,
          31.634308299999997,
          30.733442100000005,
          21.237946899999997,
          12.869810099999999,
          10.804973,
          11.876225400000001,
          21.186460699999998,
          23.8312377,
          32.735690000000005,
          9.926115300000001,
          23.258485699999998,
          30.3255646,
          24.800608800000003,
          24.578720999999998,
          16.5087586,
          22.2973142,
          13.631636800000003,
          34.1642029,
          26.671328600000002,
          19.766812100000003,
          26.2967719,
          27.484459700000002,
          15.3518378,
          25.4381302
         ],
         "legendgroup": "HI",
         "lon": [
          77.22193879999999,
          72.8773928,
          77.5912997,
          80.270186,
          88.36388149999999,
          78.4610647,
          72.5797068,
          76.2674136,
          73.8514049,
          73.8544541,
          91.753943,
          80.9346001,
          75.81898170000001,
          85.1235252,
          76.9360573,
          85.8435592,
          75.7788735,
          88.4309916,
          79.0820556,
          83.0076292,
          75.8681996,
          76.96284250000001,
          74.80298,
          83.30128420000001,
          85.3250132,
          74.8736788,
          76.7797143,
          81.6336833,
          74.8430082,
          78.6870296,
          75.37380429999999,
          72.80812809999999,
          91.2823821,
          74.86910999999999,
          78.1140983,
          77.401989,
          78.0436813,
          93.9369998,
          73.6862571,
          80.6185102,
          73.1942567,
          79.42317109999999,
          77.5848133,
          83.3645828,
          74.47543859999999,
          73.0351433,
          94.9019447,
          75.1379848,
          81.8338005
         ],
         "marker": {
          "color": "#EF553B"
         },
         "name": "HI",
         "showlegend": true,
         "type": "scattergeo"
        },
        {
         "geo": "geo",
         "hovertemplate": "<b>%{hovertext}</b><br><br>Continent=PAK<br>lat=%{lat}<br>lng=%{lon}<extra></extra>",
         "hovertext": [
          "KHI",
          "ISB",
          "LHE",
          "PEW",
          "MUX",
          "SKT",
          "LYP",
          "UET",
          "SKZ",
          "RYK",
          "KDU",
          "TUK",
          "GIL",
          "BHV",
          "GWD",
          "MJD",
          "DEA",
          "CJL",
          "PZH",
          "PJG",
          "DBA"
         ],
         "lat": [
          24.900819,
          33.5637102,
          31.54972,
          34.008,
          30.206255100000003,
          32.519381800000005,
          31.3656335,
          30.195767699999998,
          27.7210023,
          28.3820539,
          35.3372552,
          25.9816603,
          35.9188598,
          29.349173399999998,
          25.2319833,
          27.321657000000002,
          30.056140000000003,
          35.8877664,
          31.3583,
          26.955296999999998,
          28.8759393
         ],
         "legendgroup": "PAK",
         "lon": [
          67.1594188,
          73.1213604,
          74.34361,
          71.57849,
          71.41994270000001,
          74.54054980000001,
          72.9931722,
          67.0172447,
          68.7942765,
          70.278837,
          75.5375531,
          63.030417799999995,
          74.33350159999999,
          71.7237228,
          62.3282039,
          68.1365933,
          70.63476999999999,
          71.80072750000001,
          69.4636,
          64.1339581,
          64.401426
         ],
         "marker": {
          "color": "#00cc96"
         },
         "name": "PAK",
         "showlegend": true,
         "type": "scattergeo"
        },
        {
         "geo": "geo",
         "hovertemplate": "<b>%{hovertext}</b><br><br>Continent=BANGLA<br>lat=%{lat}<br>lng=%{lon}<extra></extra>",
         "hovertext": [
          "BZL",
          "CGP",
          "CXB",
          "DAC",
          "JSR",
          "RJH",
          "SPD",
          "ZYL"
         ],
         "lat": [
          22.8040204,
          22.254005499999998,
          21.454924,
          23.844951899999998,
          23.1841172,
          24.4383532,
          25.7579503,
          24.964001100000004
         ],
         "legendgroup": "BANGLA",
         "lon": [
          90.3006337,
          91.820132,
          91.96364820000001,
          90.4013811,
          89.1602204,
          88.6142954,
          88.9094267,
          91.8610944
         ],
         "marker": {
          "color": "#ab63fa"
         },
         "name": "BANGLA",
         "showlegend": true,
         "type": "scattergeo"
        },
        {
         "geo": "geo",
         "hovertemplate": "<b>%{hovertext}</b><br><br>Continent=hub<br>lat=%{lat}<br>lng=%{lon}<extra></extra>",
         "hovertext": [
          "hub"
         ],
         "lat": [
          75.5378189086914
         ],
         "legendgroup": "hub",
         "lon": [
          -29.13154411315918
         ],
         "marker": {
          "color": "#FFA15A"
         },
         "name": "hub",
         "showlegend": true,
         "type": "scattergeo"
        },
        {
         "geo": "geo",
         "hovertemplate": "<b>%{hovertext}</b><br><br>Continent=hub_<br>lat=%{lat}<br>lng=%{lon}<extra></extra>",
         "hovertext": [
          "hub",
          "hub",
          "hub",
          "hub",
          "hub",
          "hub",
          "hub",
          "hub",
          "hub",
          "hub",
          "hub",
          "hub",
          "hub",
          "hub",
          "hub",
          "hub",
          "hub",
          "hub",
          "hub",
          "hub"
         ],
         "lat": [
          75.5656509399414,
          75.5641860961914,
          75.5627212524414,
          75.5612564086914,
          75.5597915649414,
          75.5583267211914,
          75.5568618774414,
          75.5553970336914,
          75.5539321899414,
          75.5524673461914,
          75.5510025024414,
          75.5495376586914,
          75.5480728149414,
          75.5466079711914,
          75.5451431274414,
          75.5436782836914,
          75.5422134399414,
          75.5407485961914,
          75.5392837524414,
          75.5378189086914
         ],
         "legendgroup": "hub_",
         "lon": [
          -29.04071044921875,
          -29.04549217224121,
          -29.050273895263672,
          -29.055055618286133,
          -29.059837341308594,
          -29.064619064331055,
          -29.069400787353516,
          -29.074182510375977,
          -29.078964233398438,
          -29.0837459564209,
          -29.088525772094727,
          -29.093305587768555,
          -29.098085403442383,
          -29.10286521911621,
          -29.10764503479004,
          -29.112424850463867,
          -29.117204666137695,
          -29.121984481811523,
          -29.12676429748535,
          -29.13154411315918
         ],
         "marker": {
          "color": "#19d3f3"
         },
         "name": "hub_",
         "showlegend": true,
         "type": "scattergeo"
        }
       ],
       "layout": {
        "geo": {
         "center": {},
         "domain": {
          "x": [
           0,
           1
          ],
          "y": [
           0,
           1
          ]
         },
         "projection": {
          "type": "natural earth"
         }
        },
        "legend": {
         "title": {
          "text": "Continent"
         },
         "tracegroupgap": 0
        },
        "margin": {
         "t": 60
        },
        "template": {
         "data": {
          "bar": [
           {
            "error_x": {
             "color": "#2a3f5f"
            },
            "error_y": {
             "color": "#2a3f5f"
            },
            "marker": {
             "line": {
              "color": "#E5ECF6",
              "width": 0.5
             }
            },
            "type": "bar"
           }
          ],
          "barpolar": [
           {
            "marker": {
             "line": {
              "color": "#E5ECF6",
              "width": 0.5
             }
            },
            "type": "barpolar"
           }
          ],
          "carpet": [
           {
            "aaxis": {
             "endlinecolor": "#2a3f5f",
             "gridcolor": "white",
             "linecolor": "white",
             "minorgridcolor": "white",
             "startlinecolor": "#2a3f5f"
            },
            "baxis": {
             "endlinecolor": "#2a3f5f",
             "gridcolor": "white",
             "linecolor": "white",
             "minorgridcolor": "white",
             "startlinecolor": "#2a3f5f"
            },
            "type": "carpet"
           }
          ],
          "choropleth": [
           {
            "colorbar": {
             "outlinewidth": 0,
             "ticks": ""
            },
            "type": "choropleth"
           }
          ],
          "contour": [
           {
            "colorbar": {
             "outlinewidth": 0,
             "ticks": ""
            },
            "colorscale": [
             [
              0,
              "#0d0887"
             ],
             [
              0.1111111111111111,
              "#46039f"
             ],
             [
              0.2222222222222222,
              "#7201a8"
             ],
             [
              0.3333333333333333,
              "#9c179e"
             ],
             [
              0.4444444444444444,
              "#bd3786"
             ],
             [
              0.5555555555555556,
              "#d8576b"
             ],
             [
              0.6666666666666666,
              "#ed7953"
             ],
             [
              0.7777777777777778,
              "#fb9f3a"
             ],
             [
              0.8888888888888888,
              "#fdca26"
             ],
             [
              1,
              "#f0f921"
             ]
            ],
            "type": "contour"
           }
          ],
          "contourcarpet": [
           {
            "colorbar": {
             "outlinewidth": 0,
             "ticks": ""
            },
            "type": "contourcarpet"
           }
          ],
          "heatmap": [
           {
            "colorbar": {
             "outlinewidth": 0,
             "ticks": ""
            },
            "colorscale": [
             [
              0,
              "#0d0887"
             ],
             [
              0.1111111111111111,
              "#46039f"
             ],
             [
              0.2222222222222222,
              "#7201a8"
             ],
             [
              0.3333333333333333,
              "#9c179e"
             ],
             [
              0.4444444444444444,
              "#bd3786"
             ],
             [
              0.5555555555555556,
              "#d8576b"
             ],
             [
              0.6666666666666666,
              "#ed7953"
             ],
             [
              0.7777777777777778,
              "#fb9f3a"
             ],
             [
              0.8888888888888888,
              "#fdca26"
             ],
             [
              1,
              "#f0f921"
             ]
            ],
            "type": "heatmap"
           }
          ],
          "heatmapgl": [
           {
            "colorbar": {
             "outlinewidth": 0,
             "ticks": ""
            },
            "colorscale": [
             [
              0,
              "#0d0887"
             ],
             [
              0.1111111111111111,
              "#46039f"
             ],
             [
              0.2222222222222222,
              "#7201a8"
             ],
             [
              0.3333333333333333,
              "#9c179e"
             ],
             [
              0.4444444444444444,
              "#bd3786"
             ],
             [
              0.5555555555555556,
              "#d8576b"
             ],
             [
              0.6666666666666666,
              "#ed7953"
             ],
             [
              0.7777777777777778,
              "#fb9f3a"
             ],
             [
              0.8888888888888888,
              "#fdca26"
             ],
             [
              1,
              "#f0f921"
             ]
            ],
            "type": "heatmapgl"
           }
          ],
          "histogram": [
           {
            "marker": {
             "colorbar": {
              "outlinewidth": 0,
              "ticks": ""
             }
            },
            "type": "histogram"
           }
          ],
          "histogram2d": [
           {
            "colorbar": {
             "outlinewidth": 0,
             "ticks": ""
            },
            "colorscale": [
             [
              0,
              "#0d0887"
             ],
             [
              0.1111111111111111,
              "#46039f"
             ],
             [
              0.2222222222222222,
              "#7201a8"
             ],
             [
              0.3333333333333333,
              "#9c179e"
             ],
             [
              0.4444444444444444,
              "#bd3786"
             ],
             [
              0.5555555555555556,
              "#d8576b"
             ],
             [
              0.6666666666666666,
              "#ed7953"
             ],
             [
              0.7777777777777778,
              "#fb9f3a"
             ],
             [
              0.8888888888888888,
              "#fdca26"
             ],
             [
              1,
              "#f0f921"
             ]
            ],
            "type": "histogram2d"
           }
          ],
          "histogram2dcontour": [
           {
            "colorbar": {
             "outlinewidth": 0,
             "ticks": ""
            },
            "colorscale": [
             [
              0,
              "#0d0887"
             ],
             [
              0.1111111111111111,
              "#46039f"
             ],
             [
              0.2222222222222222,
              "#7201a8"
             ],
             [
              0.3333333333333333,
              "#9c179e"
             ],
             [
              0.4444444444444444,
              "#bd3786"
             ],
             [
              0.5555555555555556,
              "#d8576b"
             ],
             [
              0.6666666666666666,
              "#ed7953"
             ],
             [
              0.7777777777777778,
              "#fb9f3a"
             ],
             [
              0.8888888888888888,
              "#fdca26"
             ],
             [
              1,
              "#f0f921"
             ]
            ],
            "type": "histogram2dcontour"
           }
          ],
          "mesh3d": [
           {
            "colorbar": {
             "outlinewidth": 0,
             "ticks": ""
            },
            "type": "mesh3d"
           }
          ],
          "parcoords": [
           {
            "line": {
             "colorbar": {
              "outlinewidth": 0,
              "ticks": ""
             }
            },
            "type": "parcoords"
           }
          ],
          "pie": [
           {
            "automargin": true,
            "type": "pie"
           }
          ],
          "scatter": [
           {
            "marker": {
             "colorbar": {
              "outlinewidth": 0,
              "ticks": ""
             }
            },
            "type": "scatter"
           }
          ],
          "scatter3d": [
           {
            "line": {
             "colorbar": {
              "outlinewidth": 0,
              "ticks": ""
             }
            },
            "marker": {
             "colorbar": {
              "outlinewidth": 0,
              "ticks": ""
             }
            },
            "type": "scatter3d"
           }
          ],
          "scattercarpet": [
           {
            "marker": {
             "colorbar": {
              "outlinewidth": 0,
              "ticks": ""
             }
            },
            "type": "scattercarpet"
           }
          ],
          "scattergeo": [
           {
            "marker": {
             "colorbar": {
              "outlinewidth": 0,
              "ticks": ""
             }
            },
            "type": "scattergeo"
           }
          ],
          "scattergl": [
           {
            "marker": {
             "colorbar": {
              "outlinewidth": 0,
              "ticks": ""
             }
            },
            "type": "scattergl"
           }
          ],
          "scattermapbox": [
           {
            "marker": {
             "colorbar": {
              "outlinewidth": 0,
              "ticks": ""
             }
            },
            "type": "scattermapbox"
           }
          ],
          "scatterpolar": [
           {
            "marker": {
             "colorbar": {
              "outlinewidth": 0,
              "ticks": ""
             }
            },
            "type": "scatterpolar"
           }
          ],
          "scatterpolargl": [
           {
            "marker": {
             "colorbar": {
              "outlinewidth": 0,
              "ticks": ""
             }
            },
            "type": "scatterpolargl"
           }
          ],
          "scatterternary": [
           {
            "marker": {
             "colorbar": {
              "outlinewidth": 0,
              "ticks": ""
             }
            },
            "type": "scatterternary"
           }
          ],
          "surface": [
           {
            "colorbar": {
             "outlinewidth": 0,
             "ticks": ""
            },
            "colorscale": [
             [
              0,
              "#0d0887"
             ],
             [
              0.1111111111111111,
              "#46039f"
             ],
             [
              0.2222222222222222,
              "#7201a8"
             ],
             [
              0.3333333333333333,
              "#9c179e"
             ],
             [
              0.4444444444444444,
              "#bd3786"
             ],
             [
              0.5555555555555556,
              "#d8576b"
             ],
             [
              0.6666666666666666,
              "#ed7953"
             ],
             [
              0.7777777777777778,
              "#fb9f3a"
             ],
             [
              0.8888888888888888,
              "#fdca26"
             ],
             [
              1,
              "#f0f921"
             ]
            ],
            "type": "surface"
           }
          ],
          "table": [
           {
            "cells": {
             "fill": {
              "color": "#EBF0F8"
             },
             "line": {
              "color": "white"
             }
            },
            "header": {
             "fill": {
              "color": "#C8D4E3"
             },
             "line": {
              "color": "white"
             }
            },
            "type": "table"
           }
          ]
         },
         "layout": {
          "annotationdefaults": {
           "arrowcolor": "#2a3f5f",
           "arrowhead": 0,
           "arrowwidth": 1
          },
          "coloraxis": {
           "colorbar": {
            "outlinewidth": 0,
            "ticks": ""
           }
          },
          "colorscale": {
           "diverging": [
            [
             0,
             "#8e0152"
            ],
            [
             0.1,
             "#c51b7d"
            ],
            [
             0.2,
             "#de77ae"
            ],
            [
             0.3,
             "#f1b6da"
            ],
            [
             0.4,
             "#fde0ef"
            ],
            [
             0.5,
             "#f7f7f7"
            ],
            [
             0.6,
             "#e6f5d0"
            ],
            [
             0.7,
             "#b8e186"
            ],
            [
             0.8,
             "#7fbc41"
            ],
            [
             0.9,
             "#4d9221"
            ],
            [
             1,
             "#276419"
            ]
           ],
           "sequential": [
            [
             0,
             "#0d0887"
            ],
            [
             0.1111111111111111,
             "#46039f"
            ],
            [
             0.2222222222222222,
             "#7201a8"
            ],
            [
             0.3333333333333333,
             "#9c179e"
            ],
            [
             0.4444444444444444,
             "#bd3786"
            ],
            [
             0.5555555555555556,
             "#d8576b"
            ],
            [
             0.6666666666666666,
             "#ed7953"
            ],
            [
             0.7777777777777778,
             "#fb9f3a"
            ],
            [
             0.8888888888888888,
             "#fdca26"
            ],
            [
             1,
             "#f0f921"
            ]
           ],
           "sequentialminus": [
            [
             0,
             "#0d0887"
            ],
            [
             0.1111111111111111,
             "#46039f"
            ],
            [
             0.2222222222222222,
             "#7201a8"
            ],
            [
             0.3333333333333333,
             "#9c179e"
            ],
            [
             0.4444444444444444,
             "#bd3786"
            ],
            [
             0.5555555555555556,
             "#d8576b"
            ],
            [
             0.6666666666666666,
             "#ed7953"
            ],
            [
             0.7777777777777778,
             "#fb9f3a"
            ],
            [
             0.8888888888888888,
             "#fdca26"
            ],
            [
             1,
             "#f0f921"
            ]
           ]
          },
          "colorway": [
           "#636efa",
           "#EF553B",
           "#00cc96",
           "#ab63fa",
           "#FFA15A",
           "#19d3f3",
           "#FF6692",
           "#B6E880",
           "#FF97FF",
           "#FECB52"
          ],
          "font": {
           "color": "#2a3f5f"
          },
          "geo": {
           "bgcolor": "white",
           "lakecolor": "white",
           "landcolor": "#E5ECF6",
           "showlakes": true,
           "showland": true,
           "subunitcolor": "white"
          },
          "hoverlabel": {
           "align": "left"
          },
          "hovermode": "closest",
          "mapbox": {
           "style": "light"
          },
          "paper_bgcolor": "white",
          "plot_bgcolor": "#E5ECF6",
          "polar": {
           "angularaxis": {
            "gridcolor": "white",
            "linecolor": "white",
            "ticks": ""
           },
           "bgcolor": "#E5ECF6",
           "radialaxis": {
            "gridcolor": "white",
            "linecolor": "white",
            "ticks": ""
           }
          },
          "scene": {
           "xaxis": {
            "backgroundcolor": "#E5ECF6",
            "gridcolor": "white",
            "gridwidth": 2,
            "linecolor": "white",
            "showbackground": true,
            "ticks": "",
            "zerolinecolor": "white"
           },
           "yaxis": {
            "backgroundcolor": "#E5ECF6",
            "gridcolor": "white",
            "gridwidth": 2,
            "linecolor": "white",
            "showbackground": true,
            "ticks": "",
            "zerolinecolor": "white"
           },
           "zaxis": {
            "backgroundcolor": "#E5ECF6",
            "gridcolor": "white",
            "gridwidth": 2,
            "linecolor": "white",
            "showbackground": true,
            "ticks": "",
            "zerolinecolor": "white"
           }
          },
          "shapedefaults": {
           "line": {
            "color": "#2a3f5f"
           }
          },
          "ternary": {
           "aaxis": {
            "gridcolor": "white",
            "linecolor": "white",
            "ticks": ""
           },
           "baxis": {
            "gridcolor": "white",
            "linecolor": "white",
            "ticks": ""
           },
           "bgcolor": "#E5ECF6",
           "caxis": {
            "gridcolor": "white",
            "linecolor": "white",
            "ticks": ""
           }
          },
          "title": {
           "x": 0.05
          },
          "xaxis": {
           "automargin": true,
           "gridcolor": "white",
           "linecolor": "white",
           "ticks": "",
           "title": {
            "standoff": 15
           },
           "zerolinecolor": "white",
           "zerolinewidth": 2
          },
          "yaxis": {
           "automargin": true,
           "gridcolor": "white",
           "linecolor": "white",
           "ticks": "",
           "title": {
            "standoff": 15
           },
           "zerolinecolor": "white",
           "zerolinewidth": 2
          }
         }
        }
       }
      },
      "text/html": [
       "<div>                            <div id=\"cb58994f-dd69-42c0-9fe6-7eb40a844567\" class=\"plotly-graph-div\" style=\"height:525px; width:100%;\"></div>            <script type=\"text/javascript\">                require([\"plotly\"], function(Plotly) {                    window.PLOTLYENV=window.PLOTLYENV || {};                                    if (document.getElementById(\"cb58994f-dd69-42c0-9fe6-7eb40a844567\")) {                    Plotly.newPlot(                        \"cb58994f-dd69-42c0-9fe6-7eb40a844567\",                        [{\"geo\": \"geo\", \"hovertemplate\": \"<b>%{hovertext}</b><br><br>Continent=NA<br>lat=%{lat}<br>lng=%{lon}<extra></extra>\", \"hovertext\": [\"United States\", \"United States\", \"United States\", \"United States\", \"United States\", \"United States\", \"United States\", \"United States\", \"United States\", \"Canada\", \"United States\", \"United States\", \"United States\", \"United States\", \"United States\", \"United States\", \"United States\", \"United States\", \"United States\", \"United States\", \"United States\", \"United States\", \"United States\", \"Canada\", \"United States\", \"United States\", \"United States\", \"United States\", \"United States\", \"United States\", \"United States\", \"Canada\", \"Canada\", \"United States\", \"United States\", \"United States\", \"United States\", \"United States\", \"United States\", \"United States\", \"United States\", \"United States\", \"United States\", \"United States\", \"United States\"], \"lat\": [33.7489924, 34.0536909, 41.875561600000005, 32.7476308, 39.7392364, 40.7127281, 37.779026200000004, 36.1672559, 47.447567299999996, 43.6534817, 28.5421109, 35.227208600000004, 40.735657, 25.7741728, 33.448436699999995, 29.7589382, 42.3602534, 44.9227049, 26.122308399999998, 42.331550899999996, 39.9527237, 40.7127281, 39.2908816, 49.2608724, 40.759619799999996, 32.7174202, 38.8937936, 38.8937936, 41.875561600000005, 27.947759499999997, 45.5202471, 45.4972159, 51.0534234, 32.7762719, 36.1622296, 30.2711286, 38.6264178, 29.7589382, 37.3361905, 37.804455700000005, 29.949932300000004, 35.7803977, 38.5810606, 39.100105, 33.750037799999994], \"legendgroup\": \"NA\", \"lon\": [-84.3902644, -118.24276599999999, -87.6244212, -97.3135971, -104.98486229999999, -74.0060152, -122.4199061, -115.1485163, -122.3080159, -79.38393470000001, -81.3790304, -80.84308270000001, -74.1723667, -80.19362, -112.07414170000001, -95.36769740000001, -71.0582912, -93.0554922, -80.14337859999999, -83.04664029999999, -75.16352619999999, -74.0060152, -76.610759, -123.11395290000002, -111.88679750000001, -117.16277279999998, -76.98799759999999, -76.98799759999999, -87.6244212, -82.458444, -122.6741949, -73.61036419999999, -114.0625892, -96.7968559, -86.7743531, -97.7436995, -90.1998378, -95.36769740000001, -121.890583, -122.27135630000001, -90.0701156, -78.63909890000001, -121.49389509999999, -94.5781416, -117.87049309999999], \"marker\": {\"color\": \"#636efa\"}, \"name\": \"NA\", \"showlegend\": true, \"type\": \"scattergeo\"}, {\"geo\": \"geo\", \"hovertemplate\": \"<b>%{hovertext}</b><br><br>Continent=HI<br>lat=%{lat}<br>lng=%{lon}<extra></extra>\", \"hovertext\": [\"Delhi\", \"Maharashtra\", \"Karnataka\", \"Tamil Nadu\", \"West Bengal\", \"Telangana\", \"Gujarat\", \"Kerala\", \"Goa\", \"Maharashtra\", \"Assam\", \"Uttar Pradesh\", \"Rajasthan\", \"Bihar\", \"Kerala\", \"Odisha\", \"Kerala\", \"West Bengal\", \"Maharashtra\", \"Uttar Pradesh\", \"Madhya Pradesh\", \"Tamil Nadu\", \"Jammu and Kashmir (union territory)\", \"Andhra Pradesh\", \"Jharkhand\", \"Punjab\", \"Chandigarh\", \"Chhattisgarh\", \"Karnataka\", \"Tamil Nadu\", \"Kerala\", \"Gujarat\", \"Tripura\", \"Jammu and Kashmir (union territory)\", \"Tamil Nadu\", \"Madhya Pradesh\", \"Uttarakhand\", \"Manipur\", \"Rajasthan\", \"Andhra Pradesh\", \"Gujarat\", \"Andhra Pradesh\", \"Ladakh\", \"Uttar Pradesh\", \"Maharashtra\", \"Rajasthan\", \"Assam\", \"Karnataka\", \"Uttar Pradesh\"], \"lat\": [28.6517178, 19.075989899999996, 12.979119800000001, 13.0836939, 22.5726723, 17.3887859, 23.0216238, 9.931308, 15.386571300000002, 18.521428, 26.1805978, 26.8381, 26.9154576, 25.609323899999996, 8.5241122, 20.2667774, 11.2586082, 26.7164127, 21.1498134, 25.3356491, 22.7203616, 11.0018115, 34.08842, 17.7231276, 23.3700354, 31.634308299999997, 30.733442100000005, 21.237946899999997, 12.869810099999999, 10.804973, 11.876225400000001, 21.186460699999998, 23.8312377, 32.735690000000005, 9.926115300000001, 23.258485699999998, 30.3255646, 24.800608800000003, 24.578720999999998, 16.5087586, 22.2973142, 13.631636800000003, 34.1642029, 26.671328600000002, 19.766812100000003, 26.2967719, 27.484459700000002, 15.3518378, 25.4381302], \"legendgroup\": \"HI\", \"lon\": [77.22193879999999, 72.8773928, 77.5912997, 80.270186, 88.36388149999999, 78.4610647, 72.5797068, 76.2674136, 73.8514049, 73.8544541, 91.753943, 80.9346001, 75.81898170000001, 85.1235252, 76.9360573, 85.8435592, 75.7788735, 88.4309916, 79.0820556, 83.0076292, 75.8681996, 76.96284250000001, 74.80298, 83.30128420000001, 85.3250132, 74.8736788, 76.7797143, 81.6336833, 74.8430082, 78.6870296, 75.37380429999999, 72.80812809999999, 91.2823821, 74.86910999999999, 78.1140983, 77.401989, 78.0436813, 93.9369998, 73.6862571, 80.6185102, 73.1942567, 79.42317109999999, 77.5848133, 83.3645828, 74.47543859999999, 73.0351433, 94.9019447, 75.1379848, 81.8338005], \"marker\": {\"color\": \"#EF553B\"}, \"name\": \"HI\", \"showlegend\": true, \"type\": \"scattergeo\"}, {\"geo\": \"geo\", \"hovertemplate\": \"<b>%{hovertext}</b><br><br>Continent=PAK<br>lat=%{lat}<br>lng=%{lon}<extra></extra>\", \"hovertext\": [\"KHI\", \"ISB\", \"LHE\", \"PEW\", \"MUX\", \"SKT\", \"LYP\", \"UET\", \"SKZ\", \"RYK\", \"KDU\", \"TUK\", \"GIL\", \"BHV\", \"GWD\", \"MJD\", \"DEA\", \"CJL\", \"PZH\", \"PJG\", \"DBA\"], \"lat\": [24.900819, 33.5637102, 31.54972, 34.008, 30.206255100000003, 32.519381800000005, 31.3656335, 30.195767699999998, 27.7210023, 28.3820539, 35.3372552, 25.9816603, 35.9188598, 29.349173399999998, 25.2319833, 27.321657000000002, 30.056140000000003, 35.8877664, 31.3583, 26.955296999999998, 28.8759393], \"legendgroup\": \"PAK\", \"lon\": [67.1594188, 73.1213604, 74.34361, 71.57849, 71.41994270000001, 74.54054980000001, 72.9931722, 67.0172447, 68.7942765, 70.278837, 75.5375531, 63.030417799999995, 74.33350159999999, 71.7237228, 62.3282039, 68.1365933, 70.63476999999999, 71.80072750000001, 69.4636, 64.1339581, 64.401426], \"marker\": {\"color\": \"#00cc96\"}, \"name\": \"PAK\", \"showlegend\": true, \"type\": \"scattergeo\"}, {\"geo\": \"geo\", \"hovertemplate\": \"<b>%{hovertext}</b><br><br>Continent=BANGLA<br>lat=%{lat}<br>lng=%{lon}<extra></extra>\", \"hovertext\": [\"BZL\", \"CGP\", \"CXB\", \"DAC\", \"JSR\", \"RJH\", \"SPD\", \"ZYL\"], \"lat\": [22.8040204, 22.254005499999998, 21.454924, 23.844951899999998, 23.1841172, 24.4383532, 25.7579503, 24.964001100000004], \"legendgroup\": \"BANGLA\", \"lon\": [90.3006337, 91.820132, 91.96364820000001, 90.4013811, 89.1602204, 88.6142954, 88.9094267, 91.8610944], \"marker\": {\"color\": \"#ab63fa\"}, \"name\": \"BANGLA\", \"showlegend\": true, \"type\": \"scattergeo\"}, {\"geo\": \"geo\", \"hovertemplate\": \"<b>%{hovertext}</b><br><br>Continent=hub<br>lat=%{lat}<br>lng=%{lon}<extra></extra>\", \"hovertext\": [\"hub\"], \"lat\": [75.5378189086914], \"legendgroup\": \"hub\", \"lon\": [-29.13154411315918], \"marker\": {\"color\": \"#FFA15A\"}, \"name\": \"hub\", \"showlegend\": true, \"type\": \"scattergeo\"}, {\"geo\": \"geo\", \"hovertemplate\": \"<b>%{hovertext}</b><br><br>Continent=hub_<br>lat=%{lat}<br>lng=%{lon}<extra></extra>\", \"hovertext\": [\"hub\", \"hub\", \"hub\", \"hub\", \"hub\", \"hub\", \"hub\", \"hub\", \"hub\", \"hub\", \"hub\", \"hub\", \"hub\", \"hub\", \"hub\", \"hub\", \"hub\", \"hub\", \"hub\", \"hub\"], \"lat\": [75.5656509399414, 75.5641860961914, 75.5627212524414, 75.5612564086914, 75.5597915649414, 75.5583267211914, 75.5568618774414, 75.5553970336914, 75.5539321899414, 75.5524673461914, 75.5510025024414, 75.5495376586914, 75.5480728149414, 75.5466079711914, 75.5451431274414, 75.5436782836914, 75.5422134399414, 75.5407485961914, 75.5392837524414, 75.5378189086914], \"legendgroup\": \"hub_\", \"lon\": [-29.04071044921875, -29.04549217224121, -29.050273895263672, -29.055055618286133, -29.059837341308594, -29.064619064331055, -29.069400787353516, -29.074182510375977, -29.078964233398438, -29.0837459564209, -29.088525772094727, -29.093305587768555, -29.098085403442383, -29.10286521911621, -29.10764503479004, -29.112424850463867, -29.117204666137695, -29.121984481811523, -29.12676429748535, -29.13154411315918], \"marker\": {\"color\": \"#19d3f3\"}, \"name\": \"hub_\", \"showlegend\": true, \"type\": \"scattergeo\"}],                        {\"geo\": {\"center\": {}, \"domain\": {\"x\": [0.0, 1.0], \"y\": [0.0, 1.0]}, \"projection\": {\"type\": \"natural earth\"}}, \"legend\": {\"title\": {\"text\": \"Continent\"}, \"tracegroupgap\": 0}, \"margin\": {\"t\": 60}, \"template\": {\"data\": {\"bar\": [{\"error_x\": {\"color\": \"#2a3f5f\"}, \"error_y\": {\"color\": \"#2a3f5f\"}, \"marker\": {\"line\": {\"color\": \"#E5ECF6\", \"width\": 0.5}}, \"type\": \"bar\"}], \"barpolar\": [{\"marker\": {\"line\": {\"color\": \"#E5ECF6\", \"width\": 0.5}}, \"type\": \"barpolar\"}], \"carpet\": [{\"aaxis\": {\"endlinecolor\": \"#2a3f5f\", \"gridcolor\": \"white\", \"linecolor\": \"white\", \"minorgridcolor\": \"white\", \"startlinecolor\": \"#2a3f5f\"}, \"baxis\": {\"endlinecolor\": \"#2a3f5f\", \"gridcolor\": \"white\", \"linecolor\": \"white\", \"minorgridcolor\": \"white\", \"startlinecolor\": \"#2a3f5f\"}, \"type\": \"carpet\"}], \"choropleth\": [{\"colorbar\": {\"outlinewidth\": 0, \"ticks\": \"\"}, \"type\": \"choropleth\"}], \"contour\": [{\"colorbar\": {\"outlinewidth\": 0, \"ticks\": \"\"}, \"colorscale\": [[0.0, \"#0d0887\"], [0.1111111111111111, \"#46039f\"], [0.2222222222222222, \"#7201a8\"], [0.3333333333333333, \"#9c179e\"], [0.4444444444444444, \"#bd3786\"], [0.5555555555555556, \"#d8576b\"], [0.6666666666666666, \"#ed7953\"], [0.7777777777777778, \"#fb9f3a\"], [0.8888888888888888, \"#fdca26\"], [1.0, \"#f0f921\"]], \"type\": \"contour\"}], \"contourcarpet\": [{\"colorbar\": {\"outlinewidth\": 0, \"ticks\": \"\"}, \"type\": \"contourcarpet\"}], \"heatmap\": [{\"colorbar\": {\"outlinewidth\": 0, \"ticks\": \"\"}, \"colorscale\": [[0.0, \"#0d0887\"], [0.1111111111111111, \"#46039f\"], [0.2222222222222222, \"#7201a8\"], [0.3333333333333333, \"#9c179e\"], [0.4444444444444444, \"#bd3786\"], [0.5555555555555556, \"#d8576b\"], [0.6666666666666666, \"#ed7953\"], [0.7777777777777778, \"#fb9f3a\"], [0.8888888888888888, \"#fdca26\"], [1.0, \"#f0f921\"]], \"type\": \"heatmap\"}], \"heatmapgl\": [{\"colorbar\": {\"outlinewidth\": 0, \"ticks\": \"\"}, \"colorscale\": [[0.0, \"#0d0887\"], [0.1111111111111111, \"#46039f\"], [0.2222222222222222, \"#7201a8\"], [0.3333333333333333, \"#9c179e\"], [0.4444444444444444, \"#bd3786\"], [0.5555555555555556, \"#d8576b\"], [0.6666666666666666, \"#ed7953\"], [0.7777777777777778, \"#fb9f3a\"], [0.8888888888888888, \"#fdca26\"], [1.0, \"#f0f921\"]], \"type\": \"heatmapgl\"}], \"histogram\": [{\"marker\": {\"colorbar\": {\"outlinewidth\": 0, \"ticks\": \"\"}}, \"type\": \"histogram\"}], \"histogram2d\": [{\"colorbar\": {\"outlinewidth\": 0, \"ticks\": \"\"}, \"colorscale\": [[0.0, \"#0d0887\"], [0.1111111111111111, \"#46039f\"], [0.2222222222222222, \"#7201a8\"], [0.3333333333333333, \"#9c179e\"], [0.4444444444444444, \"#bd3786\"], [0.5555555555555556, \"#d8576b\"], [0.6666666666666666, \"#ed7953\"], [0.7777777777777778, \"#fb9f3a\"], [0.8888888888888888, \"#fdca26\"], [1.0, \"#f0f921\"]], \"type\": \"histogram2d\"}], \"histogram2dcontour\": [{\"colorbar\": {\"outlinewidth\": 0, \"ticks\": \"\"}, \"colorscale\": [[0.0, \"#0d0887\"], [0.1111111111111111, \"#46039f\"], [0.2222222222222222, \"#7201a8\"], [0.3333333333333333, \"#9c179e\"], [0.4444444444444444, \"#bd3786\"], [0.5555555555555556, \"#d8576b\"], [0.6666666666666666, \"#ed7953\"], [0.7777777777777778, \"#fb9f3a\"], [0.8888888888888888, \"#fdca26\"], [1.0, \"#f0f921\"]], \"type\": \"histogram2dcontour\"}], \"mesh3d\": [{\"colorbar\": {\"outlinewidth\": 0, \"ticks\": \"\"}, \"type\": \"mesh3d\"}], \"parcoords\": [{\"line\": {\"colorbar\": {\"outlinewidth\": 0, \"ticks\": \"\"}}, \"type\": \"parcoords\"}], \"pie\": [{\"automargin\": true, \"type\": \"pie\"}], \"scatter\": [{\"marker\": {\"colorbar\": {\"outlinewidth\": 0, \"ticks\": \"\"}}, \"type\": \"scatter\"}], \"scatter3d\": [{\"line\": {\"colorbar\": {\"outlinewidth\": 0, \"ticks\": \"\"}}, \"marker\": {\"colorbar\": {\"outlinewidth\": 0, \"ticks\": \"\"}}, \"type\": \"scatter3d\"}], \"scattercarpet\": [{\"marker\": {\"colorbar\": {\"outlinewidth\": 0, \"ticks\": \"\"}}, \"type\": \"scattercarpet\"}], \"scattergeo\": [{\"marker\": {\"colorbar\": {\"outlinewidth\": 0, \"ticks\": \"\"}}, \"type\": \"scattergeo\"}], \"scattergl\": [{\"marker\": {\"colorbar\": {\"outlinewidth\": 0, \"ticks\": \"\"}}, \"type\": \"scattergl\"}], \"scattermapbox\": [{\"marker\": {\"colorbar\": {\"outlinewidth\": 0, \"ticks\": \"\"}}, \"type\": \"scattermapbox\"}], \"scatterpolar\": [{\"marker\": {\"colorbar\": {\"outlinewidth\": 0, \"ticks\": \"\"}}, \"type\": \"scatterpolar\"}], \"scatterpolargl\": [{\"marker\": {\"colorbar\": {\"outlinewidth\": 0, \"ticks\": \"\"}}, \"type\": \"scatterpolargl\"}], \"scatterternary\": [{\"marker\": {\"colorbar\": {\"outlinewidth\": 0, \"ticks\": \"\"}}, \"type\": \"scatterternary\"}], \"surface\": [{\"colorbar\": {\"outlinewidth\": 0, \"ticks\": \"\"}, \"colorscale\": [[0.0, \"#0d0887\"], [0.1111111111111111, \"#46039f\"], [0.2222222222222222, \"#7201a8\"], [0.3333333333333333, \"#9c179e\"], [0.4444444444444444, \"#bd3786\"], [0.5555555555555556, \"#d8576b\"], [0.6666666666666666, \"#ed7953\"], [0.7777777777777778, \"#fb9f3a\"], [0.8888888888888888, \"#fdca26\"], [1.0, \"#f0f921\"]], \"type\": \"surface\"}], \"table\": [{\"cells\": {\"fill\": {\"color\": \"#EBF0F8\"}, \"line\": {\"color\": \"white\"}}, \"header\": {\"fill\": {\"color\": \"#C8D4E3\"}, \"line\": {\"color\": \"white\"}}, \"type\": \"table\"}]}, \"layout\": {\"annotationdefaults\": {\"arrowcolor\": \"#2a3f5f\", \"arrowhead\": 0, \"arrowwidth\": 1}, \"coloraxis\": {\"colorbar\": {\"outlinewidth\": 0, \"ticks\": \"\"}}, \"colorscale\": {\"diverging\": [[0, \"#8e0152\"], [0.1, \"#c51b7d\"], [0.2, \"#de77ae\"], [0.3, \"#f1b6da\"], [0.4, \"#fde0ef\"], [0.5, \"#f7f7f7\"], [0.6, \"#e6f5d0\"], [0.7, \"#b8e186\"], [0.8, \"#7fbc41\"], [0.9, \"#4d9221\"], [1, \"#276419\"]], \"sequential\": [[0.0, \"#0d0887\"], [0.1111111111111111, \"#46039f\"], [0.2222222222222222, \"#7201a8\"], [0.3333333333333333, \"#9c179e\"], [0.4444444444444444, \"#bd3786\"], [0.5555555555555556, \"#d8576b\"], [0.6666666666666666, \"#ed7953\"], [0.7777777777777778, \"#fb9f3a\"], [0.8888888888888888, \"#fdca26\"], [1.0, \"#f0f921\"]], \"sequentialminus\": [[0.0, \"#0d0887\"], [0.1111111111111111, \"#46039f\"], [0.2222222222222222, \"#7201a8\"], [0.3333333333333333, \"#9c179e\"], [0.4444444444444444, \"#bd3786\"], [0.5555555555555556, \"#d8576b\"], [0.6666666666666666, \"#ed7953\"], [0.7777777777777778, \"#fb9f3a\"], [0.8888888888888888, \"#fdca26\"], [1.0, \"#f0f921\"]]}, \"colorway\": [\"#636efa\", \"#EF553B\", \"#00cc96\", \"#ab63fa\", \"#FFA15A\", \"#19d3f3\", \"#FF6692\", \"#B6E880\", \"#FF97FF\", \"#FECB52\"], \"font\": {\"color\": \"#2a3f5f\"}, \"geo\": {\"bgcolor\": \"white\", \"lakecolor\": \"white\", \"landcolor\": \"#E5ECF6\", \"showlakes\": true, \"showland\": true, \"subunitcolor\": \"white\"}, \"hoverlabel\": {\"align\": \"left\"}, \"hovermode\": \"closest\", \"mapbox\": {\"style\": \"light\"}, \"paper_bgcolor\": \"white\", \"plot_bgcolor\": \"#E5ECF6\", \"polar\": {\"angularaxis\": {\"gridcolor\": \"white\", \"linecolor\": \"white\", \"ticks\": \"\"}, \"bgcolor\": \"#E5ECF6\", \"radialaxis\": {\"gridcolor\": \"white\", \"linecolor\": \"white\", \"ticks\": \"\"}}, \"scene\": {\"xaxis\": {\"backgroundcolor\": \"#E5ECF6\", \"gridcolor\": \"white\", \"gridwidth\": 2, \"linecolor\": \"white\", \"showbackground\": true, \"ticks\": \"\", \"zerolinecolor\": \"white\"}, \"yaxis\": {\"backgroundcolor\": \"#E5ECF6\", \"gridcolor\": \"white\", \"gridwidth\": 2, \"linecolor\": \"white\", \"showbackground\": true, \"ticks\": \"\", \"zerolinecolor\": \"white\"}, \"zaxis\": {\"backgroundcolor\": \"#E5ECF6\", \"gridcolor\": \"white\", \"gridwidth\": 2, \"linecolor\": \"white\", \"showbackground\": true, \"ticks\": \"\", \"zerolinecolor\": \"white\"}}, \"shapedefaults\": {\"line\": {\"color\": \"#2a3f5f\"}}, \"ternary\": {\"aaxis\": {\"gridcolor\": \"white\", \"linecolor\": \"white\", \"ticks\": \"\"}, \"baxis\": {\"gridcolor\": \"white\", \"linecolor\": \"white\", \"ticks\": \"\"}, \"bgcolor\": \"#E5ECF6\", \"caxis\": {\"gridcolor\": \"white\", \"linecolor\": \"white\", \"ticks\": \"\"}}, \"title\": {\"x\": 0.05}, \"xaxis\": {\"automargin\": true, \"gridcolor\": \"white\", \"linecolor\": \"white\", \"ticks\": \"\", \"title\": {\"standoff\": 15}, \"zerolinecolor\": \"white\", \"zerolinewidth\": 2}, \"yaxis\": {\"automargin\": true, \"gridcolor\": \"white\", \"linecolor\": \"white\", \"ticks\": \"\", \"title\": {\"standoff\": 15}, \"zerolinecolor\": \"white\", \"zerolinewidth\": 2}}}},                        {\"responsive\": true}                    ).then(function(){\n",
       "                            \n",
       "var gd = document.getElementById('cb58994f-dd69-42c0-9fe6-7eb40a844567');\n",
       "var x = new MutationObserver(function (mutations, observer) {{\n",
       "        var display = window.getComputedStyle(gd).display;\n",
       "        if (!display || display === 'none') {{\n",
       "            console.log([gd, 'removed!']);\n",
       "            Plotly.purge(gd);\n",
       "            observer.disconnect();\n",
       "        }}\n",
       "}});\n",
       "\n",
       "// Listen for the removal of the full notebook cells\n",
       "var notebookContainer = gd.closest('#notebook-container');\n",
       "if (notebookContainer) {{\n",
       "    x.observe(notebookContainer, {childList: true});\n",
       "}}\n",
       "\n",
       "// Listen for the clearing of the current output cell\n",
       "var outputEl = gd.closest('.output');\n",
       "if (outputEl) {{\n",
       "    x.observe(outputEl, {childList: true});\n",
       "}}\n",
       "\n",
       "                        })                };                });            </script>        </div>"
      ]
     },
     "metadata": {},
     "output_type": "display_data"
    }
   ],
   "source": [
    "import plotly.express as px\n",
    "fig = px.scatter_geo(vis_df, lat=\"lat\", lon=\"lng\", color=\"Continent\",\n",
    "                     hover_name=\"country\",\n",
    "                     projection=\"natural earth\")\n",
    "fig.show()"
   ]
  },
  {
   "cell_type": "code",
   "execution_count": 27,
   "metadata": {},
   "outputs": [
    {
     "data": {
      "image/png": "[encoded data removed]",
      "text/plain": [
       "<Figure size 1152x648 with 1 Axes>"
      ]
     },
     "metadata": {
      "needs_background": "light"
     },
     "output_type": "display_data"
    }
   ],
   "source": [
    "import matplotlib.pyplot as plt\n",
    "img_path = Path(os.getcwd()).parent/\"map_final.png\"\n",
    "img = plt.imread(img_path)\n",
    "plt.figure(figsize=(16,9))\n",
    "plt.imshow(img)\n",
    "plt.axis(\"off\")\n",
    "plt.show()"
   ]
  },
  {
   "cell_type": "code",
   "execution_count": null,
   "metadata": {},
   "outputs": [],
   "source": []
  }
 ],
 "metadata": {
  "kernelspec": {
   "display_name": "Python 3",
   "language": "python",
   "name": "python3"
  },
  "language_info": {
   "codemirror_mode": {
    "name": "ipython",
    "version": 3
   },
   "file_extension": ".py",
   "mimetype": "text/x-python",
   "name": "python",
   "nbconvert_exporter": "python",
   "pygments_lexer": "ipython3",
   "version": "3.7.4"
  }
 },
 "nbformat": 4,
 "nbformat_minor": 1
}
