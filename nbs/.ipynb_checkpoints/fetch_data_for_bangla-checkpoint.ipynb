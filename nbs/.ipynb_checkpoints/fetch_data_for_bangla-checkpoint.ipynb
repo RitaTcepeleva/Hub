{
 "cells": [
  {
   "cell_type": "code",
   "execution_count": 8,
   "metadata": {
    "pycharm": {
     "is_executing": false
    }
   },
   "outputs": [],
   "source": [
    "import json\n",
    "import os\n",
    "from pathlib import Path\n",
    "\n",
    "import requests\n",
    "from bs4 import BeautifulSoup\n",
    "import pandas as pd\n",
    "from tqdm.notebook import tqdm"
   ]
  },
  {
   "cell_type": "code",
   "execution_count": 9,
   "metadata": {
    "pycharm": {
     "is_executing": false
    }
   },
   "outputs": [],
   "source": [
    "api_key = \"c07526f63bee4d248b5e3ce31f9d3435\"\n",
    "api_path = f\"https://api.opencagedata.com/geocode/v1/json\""
   ]
  },
  {
   "cell_type": "code",
   "execution_count": 10,
   "metadata": {
    "pycharm": {
     "is_executing": false
    }
   },
   "outputs": [],
   "source": [
    "def get_proper_api_path(place, api_key=api_key, api_path=api_path):\n",
    "    return f\"{api_path}?q={place}&key={api_key}\""
   ]
  },
  {
   "cell_type": "code",
   "execution_count": 11,
   "metadata": {
    "pycharm": {
     "is_executing": false
    }
   },
   "outputs": [],
   "source": [
    "def fetch_place(place, **params):\n",
    "    path = get_proper_api_path(place, **params)\n",
    "    res = requests.get(path)\n",
    "    \n",
    "    if res.status_code != 200:\n",
    "        print(f\"Cannot fetch {place}\")\n",
    "        raise ValueError\n",
    "\n",
    "    return json.loads(res.content.decode(\"utf8\"))"
   ]
  },
  {
   "cell_type": "code",
   "execution_count": 12,
   "metadata": {
    "pycharm": {
     "is_executing": true
    }
   },
   "outputs": [],
   "source": [
    "bangla_path = 'https://en.wikipedia.org/wiki/List_of_airports_in_Bangladesh'\n",
    "res = requests.get(bangla_path)\n",
    "html = res.content.decode(\"utf8\")\n",
    "soup = BeautifulSoup(html, \"html\")\n",
    "airports = []\n",
    "rows = soup.find_all(\"table\")\n",
    "idxs = (1,0,3,6)"
   ]
  },
  {
   "cell_type": "code",
   "execution_count": 13,
   "metadata": {
    "pycharm": {
     "is_executing": true
    }
   },
   "outputs": [],
   "source": [
    "for i in range(3,10):\n",
    "    tds = rows[i].find_all(\"td\")\n",
    "    length = int(len(tds)/7)\n",
    "    if length == 8:\n",
    "        length = 2\n",
    "    for j in range(length):\n",
    "        k0 = j*7;\n",
    "        if (tds[2+k0].contents[0].rstrip() != '—' and tds[3+k0].contents[0].rstrip() != '—'):\n",
    "            if (tds[4+k0].contents[0].rstrip() == 'International' or tds[4+k0].contents[0].rstrip() == 'Domestic'):\n",
    "                href = 'https://en.wikipedia.org/'+tds[1+k0].contents[0].attrs['href']\n",
    "                res1 = requests.get(href)\n",
    "                html1 = res1.content.decode('utf8')\n",
    "                soup1 = BeautifulSoup(html1,'html')\n",
    "                rows1 = soup1.find(\"table\").find_all(\"tr\")[1:]\n",
    "                passengers = rows1[len(rows1)-2].contents[1].text\n",
    "                airport = {\n",
    "                    \"name\": tds[idxs[0]+k0].a.string,\n",
    "                    \"city\": tds[idxs[1]+k0].a.string,\n",
    "                    \"country\": tds[idxs[2]+k0].contents[0].rstrip(),\n",
    "                    \"passengers\": int(str(passengers).replace(\",\", \"\"))\n",
    "                }\n",
    "                query = f\"{airport['city']},{airport['country']}\"\n",
    "                res_json = fetch_place(query)[\"results\"]\n",
    "                coords = res_json[0][\"geometry\"]\n",
    "                airport[\"lng\"] = coords[\"lng\"]\n",
    "                airport[\"lat\"] = coords[\"lat\"]\n",
    "                airports.append(airport)"
   ]
  },
  {
   "cell_type": "code",
   "execution_count": 14,
   "metadata": {
    "pycharm": {
     "is_executing": true
    }
   },
   "outputs": [],
   "source": [
    "bangla_df = pd.DataFrame(airports)\n",
    "data_path = Path(os.getcwd()).parent/\"data\"\n",
    "bangla_df.to_csv(data_path/\"bangla_airports.csv\")"
   ]
  },
  {
   "cell_type": "code",
   "execution_count": null,
   "metadata": {
    "pycharm": {
     "is_executing": true
    }
   },
   "outputs": [],
   "source": []
  }
 ],
 "metadata": {
  "kernelspec": {
   "display_name": "Python 3",
   "language": "python",
   "name": "python3"
  },
  "language_info": {
   "codemirror_mode": {
    "name": "ipython",
    "version": 3
   },
   "file_extension": ".py",
   "mimetype": "text/x-python",
   "name": "python",
   "nbconvert_exporter": "python",
   "pygments_lexer": "ipython3",
   "version": "3.7.4"
  }
 },
 "nbformat": 4,
 "nbformat_minor": 1
}
