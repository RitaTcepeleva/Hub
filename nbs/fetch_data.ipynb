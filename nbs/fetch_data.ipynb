{
 "cells": [
  {
   "cell_type": "code",
   "execution_count": 32,
   "metadata": {
    "pycharm": {
     "is_executing": false
    }
   },
   "outputs": [],
   "source": [
    "import json\n",
    "import os\n",
    "from pathlib import Path\n",
    "\n",
    "import requests\n",
    "from bs4 import BeautifulSoup\n",
    "import pandas as pd\n",
    "from tqdm.notebook import tqdm"
   ]
  },
  {
   "cell_type": "code",
   "execution_count": 33,
   "metadata": {
    "pycharm": {
     "is_executing": false,
     "name": "#%%\n"
    }
   },
   "outputs": [],
   "source": [
    "api_key = \"c07526f63bee4d248b5e3ce31f9d3435\"\n",
    "api_path = f\"https://api.opencagedata.com/geocode/v1/json\""
   ]
  },
  {
   "cell_type": "code",
   "execution_count": 34,
   "metadata": {
    "pycharm": {
     "is_executing": false,
     "name": "#%%\n"
    }
   },
   "outputs": [],
   "source": [
    "def get_proper_api_path(place, api_key=api_key, api_path=api_path):\n",
    "    return f\"{api_path}?q={place}&key={api_key}\""
   ]
  },
  {
   "cell_type": "code",
   "execution_count": 35,
   "metadata": {
    "pycharm": {
     "is_executing": false,
     "name": "#%%\n"
    }
   },
   "outputs": [],
   "source": [
    "def fetch_place(place, **params):\n",
    "    path = get_proper_api_path(place, **params)\n",
    "    res = requests.get(path)\n",
    "\n",
    "    if res.status_code != 200:\n",
    "        print(f\"Cannot fetch {place}\")\n",
    "        raise ValueError\n",
    "\n",
    "    return json.loads(res.content.decode(\"utf8\"))"
   ]
  },
  {
   "cell_type": "code",
   "execution_count": 36,
   "metadata": {
    "pycharm": {
     "is_executing": false,
     "name": "#%%\n"
    }
   },
   "outputs": [],
   "source": [
    "na_path = \"https://en.wikipedia.org/wiki/List_of_busiest_airports_in_North_America\"\n",
    "hi_path = \"https://en.wikipedia.org/wiki/List_of_the_busiest_airports_in_India\"\n",
    "pak_path = \"https://en.wikipedia.org/wiki/List_of_the_busiest_airports_in_Pakistan\""
   ]
  },
  {
   "cell_type": "code",
   "execution_count": 37,
   "metadata": {
    "pycharm": {
     "is_executing": false,
     "name": "#%%\n"
    }
   },
   "outputs": [],
   "source": [
    "def fetch_airport_data(path, **params):\n",
    "    res = requests.get(path)\n",
    "\n",
    "    if res.status_code != 200:\n",
    "        print(f\"Cannot fetch {path}\")\n",
    "        raise ValueError\n",
    "\n",
    "    html = res.content.decode(\"utf8\")\n",
    "\n",
    "    soup = BeautifulSoup(html, \"html\")\n",
    "    rows = soup.find(\"table\").find_all(\"tr\")[1:]\n",
    "    airports = []\n",
    "    for row in tqdm(rows):\n",
    "        obj = parse_row(row, **params)\n",
    "        if obj != 0:\n",
    "            airports.append(parse_row(row, **params))\n",
    "\n",
    "    return airports"
   ]
  },
  {
   "cell_type": "code",
   "execution_count": 42,
   "metadata": {
    "pycharm": {
     "is_executing": false,
     "name": "#%%\n"
    }
   },
   "outputs": [],
   "source": [
    "def parse_row(row, idxs=(2, 3, 4, 5), is_na=True):\n",
    "    tds = row.find_all(\"td\")\n",
    "    if is_na:\n",
    "        country = tds[idxs[2]].find_all(\"a\")[0][\"title\"]\n",
    "        if country != 'Mexico' and tds[idxs[1]].a.string != 'Honolulu' and country != 'Andaman and Nicobar Islands':\n",
    "\n",
    "            airport = {\n",
    "                \"name\": tds[idxs[0]].a.string,\n",
    "                \"city\": tds[idxs[1]].a.string,\n",
    "                \"country\": country,\n",
    "                \"passengers\": int(str(tds[idxs[3]].contents[0]).replace(\",\", \"\"))\n",
    "            }\n",
    "            query  = f\"{airport['city']},{airport['country']}\"\n",
    "            res_json = fetch_place(query)[\"results\"]\n",
    "            coords = res_json[0][\"geometry\"]\n",
    "            airport[\"lng\"] = coords[\"lng\"]\n",
    "            airport[\"lat\"] = coords[\"lat\"]\n",
    "            return airport\n",
    "        else: \n",
    "            return 0\n",
    "    else:\n",
    "        country = tds[idxs[2]].contents[0].rstrip()\n",
    "\n",
    "        airport = {\n",
    "            \"name\": tds[idxs[0]].a.string,\n",
    "            \"city\": tds[idxs[1]].a.string,\n",
    "            \"country\": country,\n",
    "            \"passengers\": int(str(tds[idxs[3]].contents[0]).replace(\",\", \"\"))\n",
    "        }\n",
    "        query  = f\"{airport['city']},{airport['country']}\"\n",
    "        res_json = fetch_place(query)[\"results\"]\n",
    "        if len(res_json) == 0:\n",
    "            if (airport['city'] == 'Mohenjodaro'):\n",
    "                query = 'Moenjodaro'\n",
    "                res_json = fetch_place(query)[\"results\"]\n",
    "            elif (airport['city'] == 'Dalbadin'):\n",
    "                query = 'Dalbandin,DBA'\n",
    "                res_json = fetch_place(query)[\"results\"]\n",
    "        coords = res_json[0][\"geometry\"]\n",
    "        airport[\"lng\"] = coords[\"lng\"]\n",
    "        airport[\"lat\"] = coords[\"lat\"]\n",
    "        return airport"
   ]
  },
  {
   "cell_type": "code",
   "execution_count": 27,
   "metadata": {
    "pycharm": {
     "is_executing": false,
     "name": "#%%\n"
    }
   },
   "outputs": [
    {
     "data": {
      "application/vnd.jupyter.widget-view+json": {
       "model_id": "3c18ed6fc42d4b1eadadb0384a6d9e44",
       "version_major": 2,
       "version_minor": 0
      },
      "text/plain": [
       "HBox(children=(HTML(value=''), FloatProgress(value=0.0, max=50.0), HTML(value='')))"
      ]
     },
     "metadata": {},
     "output_type": "display_data"
    },
    {
     "name": "stdout",
     "output_type": "stream",
     "text": [
      "\n"
     ]
    }
   ],
   "source": [
    "na_air = fetch_airport_data(na_path)"
   ]
  },
  {
   "cell_type": "code",
   "execution_count": 43,
   "metadata": {
    "pycharm": {
     "is_executing": false,
     "name": "#%%\n"
    }
   },
   "outputs": [
    {
     "data": {
      "application/vnd.jupyter.widget-view+json": {
       "model_id": "861c283bd0144259bb495c665e359be8",
       "version_major": 2,
       "version_minor": 0
      },
      "text/plain": [
       "HBox(children=(HTML(value=''), FloatProgress(value=0.0, max=50.0), HTML(value='')))"
      ]
     },
     "metadata": {},
     "output_type": "display_data"
    },
    {
     "name": "stdout",
     "output_type": "stream",
     "text": [
      "\n"
     ]
    }
   ],
   "source": [
    "hi_air = fetch_airport_data(hi_path, idxs=(1, 2, 3, 5))"
   ]
  },
  {
   "cell_type": "code",
   "execution_count": 29,
   "metadata": {
    "pycharm": {
     "is_executing": false
    }
   },
   "outputs": [
    {
     "data": {
      "application/vnd.jupyter.widget-view+json": {
       "model_id": "eb3fb7d710b7495db47315d37a02853e",
       "version_major": 2,
       "version_minor": 0
      },
      "text/plain": [
       "HBox(children=(HTML(value=''), FloatProgress(value=0.0, max=21.0), HTML(value='')))"
      ]
     },
     "metadata": {},
     "output_type": "display_data"
    },
    {
     "name": "stdout",
     "output_type": "stream",
     "text": [
      "\n"
     ]
    }
   ],
   "source": [
    "pak_air = fetch_airport_data(pak_path, idxs=(1, 2, 3, 5), is_na=False)"
   ]
  },
  {
   "cell_type": "code",
   "execution_count": 44,
   "metadata": {
    "pycharm": {
     "is_executing": false,
     "name": "#%%\n"
    }
   },
   "outputs": [],
   "source": [
    "na_df = pd.DataFrame(na_air)\n",
    "hi_df = pd.DataFrame(hi_air)\n",
    "pak_df = pd.DataFrame(pak_air)"
   ]
  },
  {
   "cell_type": "code",
   "execution_count": 45,
   "metadata": {
    "pycharm": {
     "is_executing": false,
     "name": "#%%\n"
    }
   },
   "outputs": [],
   "source": [
    "data_path = Path(os.getcwd()).parent/\"data\"\n",
    "\n",
    "na_df.to_csv(data_path/\"na_airports.csv\")\n",
    "hi_df.to_csv(data_path/\"hi_airports.csv\")\n",
    "pak_df.to_csv(data_path/\"pak_airports.csv\")"
   ]
  },
  {
   "cell_type": "code",
   "execution_count": null,
   "metadata": {
    "pycharm": {
     "is_executing": false,
     "name": "#%%\n"
    }
   },
   "outputs": [],
   "source": []
  }
 ],
 "metadata": {
  "kernelspec": {
   "display_name": "Python 3",
   "language": "python",
   "name": "python3"
  },
  "language_info": {
   "codemirror_mode": {
    "name": "ipython",
    "version": 3
   },
   "file_extension": ".py",
   "mimetype": "text/x-python",
   "name": "python",
   "nbconvert_exporter": "python",
   "pygments_lexer": "ipython3",
   "version": "3.7.4"
  },
  "pycharm": {
   "stem_cell": {
    "cell_type": "raw",
    "metadata": {
     "collapsed": false
    },
    "source": []
   }
  }
 },
 "nbformat": 4,
 "nbformat_minor": 1
}
